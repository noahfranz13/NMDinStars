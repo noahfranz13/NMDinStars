{
 "cells": [
  {
   "cell_type": "code",
   "execution_count": 2,
   "metadata": {},
   "outputs": [],
   "source": [
    "import os, glob\n",
    "import numpy as np\n",
    "import pandas as pd"
   ]
  },
  {
   "cell_type": "code",
   "execution_count": 12,
   "metadata": {},
   "outputs": [
    {
     "name": "stdout",
     "output_type": "stream",
     "text": [
      "m :  [0.7        0.81071429 0.92142857 1.03214286 1.14285714 1.25357143\n",
      " 1.36428571 1.475      1.58571429 1.69642857 1.80714286 1.91785714\n",
      " 2.02857143 2.13928571 2.25      ]\n",
      "y :  [0.2        0.21111111 0.22222222 0.23333333 0.24444444 0.25555556\n",
      " 0.26666667 0.27777778 0.28888889 0.3       ]\n",
      "z :  [1.00000000e-05 1.41281674e-05 1.99605115e-05 2.82005448e-05\n",
      " 3.98422019e-05 5.62897299e-05 7.95270729e-05 1.12357180e-04\n",
      " 1.58740105e-04 2.24270678e-04 3.16853369e-04 4.47655745e-04\n",
      " 6.32455532e-04 8.93543765e-04 1.26241359e-03 1.78355906e-03\n",
      " 2.51984210e-03 3.56007511e-03 5.02973372e-03 7.10609201e-03\n",
      " 1.00396058e-02 1.41841231e-02 2.00395666e-02 2.83122353e-02\n",
      " 4.00000000e-02]\n",
      "mu_12 :  [0.01229493 0.01858569 0.02809513 0.04247012 0.06420012 0.09704838\n",
      " 0.14670357 0.22176505 0.33523203 0.50675486 0.76603804 1.15798451\n",
      " 1.75047199 2.64610808 4.        ]\n"
     ]
    }
   ],
   "source": [
    "txt = glob.glob('*second*.txt')\n",
    "grid = pd.concat([pd.read_csv(f, header=None, sep='\\t') for f in txt])\n",
    "\n",
    "print('m : ', np.sort(grid[5].unique()))\n",
    "print('y : ', np.sort(grid[6].unique()))\n",
    "print('z : ', np.sort(grid[7].unique()))\n",
    "print('mu_12 : ', np.sort(grid[8].unique()))"
   ]
  },
  {
   "cell_type": "code",
   "execution_count": null,
   "metadata": {},
   "outputs": [],
   "source": []
  }
 ],
 "metadata": {
  "kernelspec": {
   "display_name": "Python 3",
   "language": "python",
   "name": "python3"
  },
  "language_info": {
   "codemirror_mode": {
    "name": "ipython",
    "version": 3
   },
   "file_extension": ".py",
   "mimetype": "text/x-python",
   "name": "python",
   "nbconvert_exporter": "python",
   "pygments_lexer": "ipython3",
   "version": "3.8.5"
  }
 },
 "nbformat": 4,
 "nbformat_minor": 4
}
