{
 "cells": [
  {
   "cell_type": "code",
   "execution_count": 2,
   "metadata": {},
   "outputs": [],
   "source": [
    "import os, sys\n",
    "import numpy as np\n",
    "import pandas as pd\n",
    "import matplotlib.pyplot as plt\n",
    "import seaborn as sb\n",
    "\n",
    "from tensorflow.keras.models import load_model\n",
    "\n",
    "sb.set(context='talk', style='white', palette='Set1')\n",
    "plt.rcParams[\"font.family\"] = \"serif\"\n",
    "\n",
    "sys.path.insert(0, '/home/ubuntu/Documents/NMDinStars/mcmc/SMwithIMF')\n",
    "from ML_Helpers import inverseMinNormalize, minNormalize, norm1"
   ]
  },
  {
   "cell_type": "code",
   "execution_count": 3,
   "metadata": {},
   "outputs": [],
   "source": [
    "# read in ML algorithms\n",
    "\n",
    "classifier = load_model('/home/ubuntu/Documents/NMDinStars/ML_models/classifier/classify_mesa.h5')\n",
    "regressor = load_model('/home/ubuntu/Documents/NMDinStars/ML_models/regressor/IBand.h5')  \n",
    "\n",
    "# read in Iband and Ierr error files\n",
    "IbandErr = np.load('/home/ubuntu/Documents/NMDinStars/ML_models/SM/Iband_error.npy')\n",
    "IerrErr = np.load('/home/ubuntu/Documents/NMDinStars/ML_models/SM/Ierr_error.npy')"
   ]
  },
  {
   "cell_type": "code",
   "execution_count": 4,
   "metadata": {},
   "outputs": [],
   "source": [
    "def ML(theta):\n",
    "    '''\n",
    "    Use the ML classiifer and regressor to predict the I-Band\n",
    "    magnitudes given mass, Y, Z, mu_12\n",
    "    '''\n",
    "    # read in normalization constants\n",
    "    #constReg = pd.read_csv('/home/ubuntu/Documents/NMDinStars/ML_models/regressor/regression_norm_const.txt', index_col=0)\n",
    "    #constClass = pd.read_csv('/home/ubuntu/Documents/NMDinStars/ML_models/classifier/classify_norm_const.txt', index_col=0)\n",
    "    const = pd.read_csv('/home/ubuntu/Documents/NMDinStars/ML_models/norm_const.txt', index_col=0)\n",
    "    # normalize the input vector\n",
    "    m, y, z, mu = theta\n",
    "    \n",
    "    m = norm1(m, const['min'].loc['mass'], const['max'].loc['mass'])\n",
    "    y = norm1(y, const['min'].loc['y'], const['max'].loc['y'])\n",
    "    z = norm1(z, const['min'].loc['z'], const['max'].loc['z'])\n",
    "    mu = norm1(mu, const['min'].loc['mu'], const['max'].loc['mu'])\n",
    "    thetaNorm = np.array([m, y, z, mu])[None,:]\n",
    "    #print(thetaNorm)\n",
    "    # call the ML models\n",
    "    flag = classifier(thetaNorm).numpy()\n",
    "    \n",
    "    flag = np.argmax(flag)\n",
    "    \n",
    "    if flag != 0:\n",
    "        return -np.inf, -np.inf, flag\n",
    "    \n",
    "    IbandNorm, IerrNorm = regressor(thetaNorm).numpy()[0]\n",
    "    \n",
    "    # denormalize Iband and Ierr\n",
    "    Iband = inverseMinNormalize(IbandNorm,\n",
    "                                const['min'].loc['M_I'],\n",
    "                                const['max'].loc['M_I'])\n",
    "    Ierr = inverseMinNormalize(IerrNorm,\n",
    "                               const['min'].loc['M_I_err'],\n",
    "                               const['max'].loc['M_I_err'])\n",
    "    \n",
    "    return Iband, Ierr, flag"
   ]
  },
  {
   "cell_type": "code",
   "execution_count": 8,
   "metadata": {},
   "outputs": [],
   "source": [
    "# Initiate sample grid\n",
    "\n",
    "N = 100\n",
    "\n",
    "Y = 0.25 # give constant Y because it has no effect on I-band magnitude\n",
    "mus = [0, 1, 4] # some test values of mu to vary over\n",
    "\n",
    "Zs = np.linspace(1e-4, 0.04, N)\n",
    "Ms = np.linspace(0.7, 2.25, N)\n",
    "\n",
    "outDict = {'M':[], 'Y':[], 'Z':[], 'mu':[], 'Iband':[], 'Ierr':[]}\n",
    "\n",
    "for mu in mus:\n",
    "    for Z in Zs:\n",
    "        for M in Ms:\n",
    "            \n",
    "            theta = [M, Y, Z, mu]\n",
    "            Iband, Ierr, flag = ML(theta)\n",
    "            outDict['M'].append(M)\n",
    "            outDict['Y'].append(Y)\n",
    "            outDict['Z'].append(Z)\n",
    "            outDict['mu'].append(mu)\n",
    "            outDict['Iband'].append(Iband)\n",
    "            outDict['Ierr'].append(Ierr)"
   ]
  },
  {
   "cell_type": "code",
   "execution_count": 12,
   "metadata": {},
   "outputs": [],
   "source": [
    "out = pd.DataFrame(outDict)\n",
    "out = out[np.isfinite(out.Iband)]"
   ]
  },
  {
   "cell_type": "code",
   "execution_count": 19,
   "metadata": {},
   "outputs": [
    {
     "data": {
      "text/plain": [
       "<matplotlib.legend.Legend at 0x7fd91008fd00>"
      ]
     },
     "execution_count": 19,
     "metadata": {},
     "output_type": "execute_result"
    },
    {
     "data": {
      "image/png": "[encoded data removed]",
      "text/plain": [
       "<Figure size 576x432 with 1 Axes>"
      ]
     },
     "metadata": {},
     "output_type": "display_data"
    }
   ],
   "source": [
    "fig, ax = plt.subplots(figsize=(8,6))\n",
    "ms = 5\n",
    "for mu in out.mu.unique():\n",
    "    toPlot = out[out.mu == mu]\n",
    "    ax.plot(toPlot.Z, toPlot.M, 'o', alpha=0.3, markersize=ms, label=r'$\\mu_{12}=$' + str(round(mu, 1)))\n",
    "\n",
    "ax.legend()"
   ]
  },
  {
   "cell_type": "code",
   "execution_count": null,
   "metadata": {},
   "outputs": [],
   "source": []
  }
 ],
 "metadata": {
  "kernelspec": {
   "display_name": "Python 3",
   "language": "python",
   "name": "python3"
  },
  "language_info": {
   "codemirror_mode": {
    "name": "ipython",
    "version": 3
   },
   "file_extension": ".py",
   "mimetype": "text/x-python",
   "name": "python",
   "nbconvert_exporter": "python",
   "pygments_lexer": "ipython3",
   "version": "3.8.5"
  }
 },
 "nbformat": 4,
 "nbformat_minor": 4
}
