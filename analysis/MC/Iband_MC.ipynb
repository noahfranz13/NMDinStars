{
 "cells": [
  {
   "cell_type": "code",
   "execution_count": 4,
   "metadata": {},
   "outputs": [],
   "source": [
    "import os, sys\n",
    "import numpy as np\n",
    "import pandas as pd\n",
    "import matplotlib.pyplot as plt\n",
    "import seaborn as sb\n",
    "\n",
    "from tensorflow.keras.models import load_model\n",
    "\n",
    "sb.set(context='talk', style='white', palette='Set1')\n",
    "plt.rcParams[\"font.family\"] = \"serif\"\n",
    "\n",
    "sys.path.insert(0, '/home/ubuntu/Documents/NMDinStars/mcmc/SMwithIMF')\n",
    "from ML_Helpers import inverseMinNormalize, minNormalize, norm1\n",
    "from MD_machineLearningFunctions import normaliseFromValues, deNormalise "
   ]
  },
  {
   "cell_type": "code",
   "execution_count": 5,
   "metadata": {},
   "outputs": [],
   "source": [
    "# read in ML algorithms\n",
    "\n",
    "classifier = load_model('/home/ubuntu/Documents/NMDinStars/ML_models/classifier/classify_mesa.h5')\n",
    "regressor = load_model('/home/ubuntu/Documents/NMDinStars/ML_models/regressor/IBand.h5')  \n",
    "\n",
    "classifier_SM = load_model('/home/ubuntu/Documents/NMDinStars/ML_models/SM/classify_mesa_SM.h5')\n",
    "regressor_SM = load_model('/home/ubuntu/Documents/NMDinStars/ML_models/SM/IBand_SM.h5')  \n",
    "\n",
    "# read in Iband and Ierr error files\n",
    "IbandErr = np.load('/home/ubuntu/Documents/NMDinStars/ML_models/SM/Iband_error.npy')\n",
    "IerrErr = np.load('/home/ubuntu/Documents/NMDinStars/ML_models/SM/Ierr_error.npy')"
   ]
  },
  {
   "cell_type": "code",
   "execution_count": 6,
   "metadata": {},
   "outputs": [],
   "source": [
    "def ML(theta):\n",
    "    '''\n",
    "    Use the ML classiifer and regressor to predict the I-Band\n",
    "    magnitudes given mass, Y, Z, mu_12\n",
    "    '''\n",
    "    # read in normalization constants\n",
    "    #constReg = pd.read_csv('/home/ubuntu/Documents/NMDinStars/ML_models/regressor/regression_norm_const.txt', index_col=0)\n",
    "    #constClass = pd.read_csv('/home/ubuntu/Documents/NMDinStars/ML_models/classifier/classify_norm_const.txt', index_col=0)\n",
    "    const = pd.read_csv('/home/ubuntu/Documents/NMDinStars/ML_models/norm_const.txt', index_col=0)\n",
    "    # normalize the input vector\n",
    "    m, y, z, mu = theta\n",
    "    \n",
    "    m = norm1(m, const['min'].loc['mass'], const['max'].loc['mass'])\n",
    "    y = norm1(y, const['min'].loc['y'], const['max'].loc['y'])\n",
    "    z = norm1(z, const['min'].loc['z'], const['max'].loc['z'])\n",
    "    mu = norm1(mu, const['min'].loc['mu'], const['max'].loc['mu'])\n",
    "    thetaNorm = np.array([m, y, z, mu])[None,:]\n",
    "    #print(thetaNorm)\n",
    "    # call the ML models\n",
    "    flag = classifier(thetaNorm).numpy()\n",
    "    \n",
    "    flag = np.argmax(flag)\n",
    "    \n",
    "    if flag != 0:\n",
    "        return -np.inf, -np.inf, flag\n",
    "    \n",
    "    IbandNorm, IerrNorm = regressor(thetaNorm).numpy()[0]\n",
    "    \n",
    "    # denormalize Iband and Ierr\n",
    "    Iband = inverseMinNormalize(IbandNorm,\n",
    "                                const['min'].loc['M_I'],\n",
    "                                const['max'].loc['M_I'])\n",
    "    Ierr = inverseMinNormalize(IerrNorm,\n",
    "                               const['min'].loc['M_I_err'],\n",
    "                               const['max'].loc['M_I_err'])\n",
    "    \n",
    "    return Iband, Ierr, flag\n",
    "\n",
    "def ML_SM(theta):\n",
    "    '''\n",
    "    Use the ML classiifer and regressor to predict the I-Band\n",
    "    magnitudes given mass, Y, Z, mu_12\n",
    "    '''\n",
    "    # normalize the input vector\n",
    "    m, y, z = theta\n",
    "    \n",
    "    m = normaliseFromValues(1.4, 2.9524999999999997, 0.7, m)\n",
    "    y = normaliseFromValues(0.4, 0.50485, 0.2, y)\n",
    "    z = normaliseFromValues(2.68878e-05, 0.0406135894, 1.34439e-5, z)\n",
    "    thetaNorm = np.array([m, y, z])[None,:]\n",
    "\n",
    "    # call the ML models\n",
    "    flag = classifier_SM(thetaNorm).numpy()\n",
    "    \n",
    "    flag = np.argmax(flag)\n",
    "    \n",
    "    if flag != 0:\n",
    "        return -np.inf, -np.inf, flag\n",
    "    \n",
    "    IbandNorm, IerrNorm = regressor_SM(thetaNorm).numpy()[0]\n",
    "    \n",
    "    # denormalize Iband and Ierr\n",
    "    Iband = deNormalise(0.0, 5.6129999999999995, 5.611, IbandNorm)\n",
    "    Ierr = deNormalise(0.106, 0.8350000000000001, 0.053, IerrNorm)\n",
    "    \n",
    "    return Iband, Ierr, flag\n"
   ]
  },
  {
   "cell_type": "code",
   "execution_count": 7,
   "metadata": {},
   "outputs": [
    {
     "name": "stderr",
     "output_type": "stream",
     "text": [
      "<ipython-input-7-d30ba4e36b68>:27: RuntimeWarning: invalid value encountered in double_scalars\n",
      "  Iband = Iband + np.random.normal(loc=0, scale=Ierr)\n"
     ]
    }
   ],
   "source": [
    "mu12 = [0, 2, 4]\n",
    "n = 10000\n",
    "\n",
    "def IMF_prob(x):\n",
    "    norm = 2.25**-1.35 - 0.7**-1.35\n",
    "    eq = x*norm + 0.7**-1.35\n",
    "    return eq**(-20/27)\n",
    "    \n",
    "# randomly sample n points from mass, y, and z\n",
    "yVals = np.random.uniform(low=0.2, high=0.3, size=n) # sample from uniform distribution\n",
    "zVals = np.random.normal(loc=0.0091, scale=0.0007, size=n) # sample from gaussian\n",
    "mVals = IMF_prob(np.random.uniform(low=0, high=1, size=n))\n",
    "\n",
    "allIbands = []\n",
    "\n",
    "for mu in mu12:\n",
    "    Ibands = []\n",
    "    for m, y, z in zip(mVals, yVals, zVals):\n",
    "\n",
    "        theta = [m, y, z, mu]\n",
    "        Iband, Ierr, flag = ML(theta)\n",
    "\n",
    "        # propagate ML uncertainties\n",
    "        Iband = Iband + np.random.choice(IbandErr)\n",
    "        Ierr = abs(Ierr + np.random.choice(IerrErr))\n",
    "\n",
    "        Iband = Iband + np.random.normal(loc=0, scale=Ierr)\n",
    "\n",
    "        Ibands.append(Iband)\n",
    "\n",
    "    allIbands.append(np.array(Ibands))"
   ]
  },
  {
   "cell_type": "code",
   "execution_count": 9,
   "metadata": {},
   "outputs": [
    {
     "data": {
      "image/png": "[encoded data removed]",
      "text/plain": [
       "<Figure size 576x432 with 1 Axes>"
      ]
     },
     "metadata": {},
     "output_type": "display_data"
    },
    {
     "data": {
      "image/png": "[encoded data removed]",
      "text/plain": [
       "<Figure size 576x432 with 1 Axes>"
      ]
     },
     "metadata": {},
     "output_type": "display_data"
    },
    {
     "data": {
      "image/png": "[encoded data removed]",
      "text/plain": [
       "<Figure size 576x432 with 1 Axes>"
      ]
     },
     "metadata": {},
     "output_type": "display_data"
    }
   ],
   "source": [
    "for i, mu in zip(allIbands, mu12):\n",
    "    Ibands = i[np.isfinite(i)]\n",
    "    \n",
    "    fig, ax = plt.subplots(1, figsize=(8,6))\n",
    "    ax.hist(Ibands, bins=50)\n",
    "    ax.set_xlabel('I-Band')\n",
    "    ax.set_ylabel('N')\n",
    "    ax.set_title(r'$\\mu_{12}$='+str(mu))\n",
    "    \n",
    "    ax.axvline(np.mean(Ibands), color='k', linestyle='--')"
   ]
  },
  {
   "cell_type": "code",
   "execution_count": null,
   "metadata": {},
   "outputs": [],
   "source": [
    "fig, ax = plt.subplots(1, figsize=(8,6))\n",
    "\n",
    "x = np.linspace(0.7, 2.5, 100)\n",
    "ax.plot(x, x**-2.35, '-', label='IMF')\n",
    "ax.hist(mVals, density=True, label='MC Sampling')\n",
    "ax.legend()\n",
    "\n",
    "fig, ax = plt.subplots(1, figsize=(8,6))\n",
    "ax.hist(yVals, density=True, label='MC Sampling')\n",
    "ax.legend()\n",
    "\n",
    "fig, ax = plt.subplots(1, figsize=(8,6))\n",
    "ax.hist(zVals, density=True, label='MC Sampling')\n",
    "ax.legend()"
   ]
  },
  {
   "cell_type": "code",
   "execution_count": null,
   "metadata": {},
   "outputs": [],
   "source": [
    "toPlot = mVals\n",
    "label = 'Mass'\n",
    "for i, mu in zip(allIbands, mu12):\n",
    "    Ibands = i[np.isfinite(i)]\n",
    "    M = toPlot[np.isfinite(i)]\n",
    "\n",
    "    fig, ax = plt.subplots(1, figsize=(8,6))\n",
    "\n",
    "    ax.plot(M, Ibands, '.')\n",
    "    ax.set_ylabel('I-Band')\n",
    "    ax.set_xlabel(label)\n",
    "    ax.set_title(r'$\\mu_{12}$='+str(mu))"
   ]
  },
  {
   "cell_type": "code",
   "execution_count": null,
   "metadata": {},
   "outputs": [],
   "source": [
    "nBins = 50\n",
    "mBins = np.linspace(0.7, 2.25, nBins)\n",
    "\n",
    "for Ibands, mu in zip(allIbands, mu12):\n",
    "    \n",
    "    Iband = Ibands[np.isfinite(Ibands)]\n",
    "    M = mVals[np.isfinite(Ibands)]\n",
    "    \n",
    "    binnedI = [Iband[np.where((M > low) * (M < high))[0]] for low, high in zip(mBins[:-1], mBins[1:])]\n",
    "    \n",
    "    print(len(binnedI))\n",
    "    \n",
    "    Ibins = [np.mean(I) for I in binnedI]\n",
    "    Ierr = [np.std(I) for I in binnedI]\n",
    "\n",
    "    fig, ax = plt.subplots(1, figsize=(8,6))\n",
    "    ax.errorbar(mBins[:-1], Ibins, yerr=Ierr, fmt='o')\n",
    "    ax.set_xlabel('Mass')\n",
    "    ax.set_ylabel('I-Band Magnitude')\n",
    "    ax.set_title(r'$\\mu_{12}$='+str(mu))"
   ]
  },
  {
   "cell_type": "code",
   "execution_count": null,
   "metadata": {},
   "outputs": [],
   "source": [
    "df = pd.read_csv('~/Documents/NMDinStars/analysis/output_analysis/allData.csv')\n",
    "mu0 = df[df.mu == 0]\n",
    "mu0 = df[df.flag==0]\n",
    "\n",
    "fig, ax = plt.subplots()\n",
    "\n",
    "group = mu0.groupby(mu0.mass).mean().reset_index()\n",
    "std = mu0.groupby(mu0.mass).std()\n",
    "ax.errorbar(group.mass, group.M_I, yerr=std.M_I, fmt='o', label=r'Average M$_I$', capsize=6)"
   ]
  },
  {
   "cell_type": "code",
   "execution_count": null,
   "metadata": {},
   "outputs": [],
   "source": [
    "fig, ax = plt.subplots()\n",
    "\n",
    "group = []\n",
    "std = []\n",
    "for i in range(0, len(mu0.mass.unique()), 2):\n",
    "    m = mu0.mass.unique()[i]\n",
    "    \n",
    "    where = np.where(abs(mu0.mass - m) < 0.05)[0]\n",
    "    good = mu0.iloc[where]\n",
    "    group.append(np.mean(good))\n",
    "    std.append(np.std(good))\n",
    "    \n",
    "group = pd.concat(group, axis=1).T\n",
    "std = pd.concat(std, axis=1).T\n",
    "    \n",
    "ax.errorbar(group.mass, group.M_I, yerr=std.M_I, fmt='o', label=r'Average M$_I$', capsize=6)\n",
    "ax.set_xlabel('Mass')\n",
    "ax.set_ylabel('I-Band Magnitude')"
   ]
  },
  {
   "cell_type": "code",
   "execution_count": null,
   "metadata": {},
   "outputs": [],
   "source": [
    "np.sort(mu0.mass.unique())"
   ]
  },
  {
   "cell_type": "code",
   "execution_count": null,
   "metadata": {},
   "outputs": [],
   "source": []
  }
 ],
 "metadata": {
  "kernelspec": {
   "display_name": "Python 3",
   "language": "python",
   "name": "python3"
  },
  "language_info": {
   "codemirror_mode": {
    "name": "ipython",
    "version": 3
   },
   "file_extension": ".py",
   "mimetype": "text/x-python",
   "name": "python",
   "nbconvert_exporter": "python",
   "pygments_lexer": "ipython3",
   "version": "3.8.5"
  }
 },
 "nbformat": 4,
 "nbformat_minor": 4
}
